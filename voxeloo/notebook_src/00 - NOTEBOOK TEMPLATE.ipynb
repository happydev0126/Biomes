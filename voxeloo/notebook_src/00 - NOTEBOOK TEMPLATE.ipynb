version https://git-lfs.github.com/spec/v1
oid sha256:e2e2eb7888959cc29571dd2f97e5ddf06236451f2cf7ff055d042ab6f45b3847
size 824
